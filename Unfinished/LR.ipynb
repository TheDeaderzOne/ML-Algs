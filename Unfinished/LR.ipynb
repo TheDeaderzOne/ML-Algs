{
 "cells": [
  {
   "cell_type": "code",
   "execution_count": null,
   "id": "d1726c3f",
   "metadata": {},
   "outputs": [],
   "source": [
    "from LinearRegression import LinReg\n",
    "from SynthRegData import SyntheticRegressionData\n",
    "import torch\n",
    "from TrainerClass import Trainer\n",
    "%matplotlib inline\n",
    "\n",
    "model = LinReg(2, step_size=0.03)\n",
    "data = SyntheticRegressionData(weights=torch.tensor([2, -3.4]), bias=4.2)\n",
    "trainer = Trainer(max_epochs=3)\n",
    "trainer.fit(model, data)\n"
   ]
  }
 ],
 "metadata": {
  "kernelspec": {
   "display_name": "Python 3",
   "language": "python",
   "name": "python3"
  },
  "language_info": {
   "codemirror_mode": {
    "name": "ipython",
    "version": 3
   },
   "file_extension": ".py",
   "mimetype": "text/x-python",
   "name": "python",
   "nbconvert_exporter": "python",
   "pygments_lexer": "ipython3",
   "version": "3.13.2"
  }
 },
 "nbformat": 4,
 "nbformat_minor": 5
}
