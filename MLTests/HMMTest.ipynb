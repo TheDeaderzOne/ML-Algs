{
 "cells": [
  {
   "cell_type": "code",
   "execution_count": 1,
   "id": "febef6bb",
   "metadata": {},
   "outputs": [],
   "source": [
    "import sys\n",
    "import os\n",
    "\n",
    "# Go up one directory from the notebook's location\n",
    "notebook_dir = os.path.dirname(os.path.abspath(\"__file__\"))\n",
    "project_root = os.path.join(notebook_dir, \"..\")\n",
    "\n",
    "# Add the project root to the system path\n",
    "if project_root not in sys.path:\n",
    "    sys.path.append(project_root)"
   ]
  },
  {
   "cell_type": "code",
   "execution_count": 2,
   "id": "0a88f0c6",
   "metadata": {},
   "outputs": [],
   "source": [
    "import numpy as np\n",
    "from CompletedMLAlgorithms.HiddenMarkovModel import HMM"
   ]
  },
  {
   "cell_type": "code",
   "execution_count": null,
   "id": "0e9b7a9c",
   "metadata": {},
   "outputs": [
    {
     "name": "stdout",
     "output_type": "stream",
     "text": [
      "(['Sunny', 'Sunny', 'Cloudy'], np.float64(0.041053090909090914))\n",
      "0.003909818181818183\n"
     ]
    }
   ],
   "source": [
    "trans_matr = np.array([[0.5, 0.3, 0.2], [0.4, 0.2, 0.4], [0, 0.3, 0.7]])\n",
    "\n",
    "observ_matr = np.array([[0.1, 0.4, 0.8], [0.9, 0.6, 0.2]]).T\n",
    "\n",
    "model = HMM(trans_matr, observ_matr, [\"Happy\", \"Sad\"], [\"Rainy\", \"Cloudy\", \"Sunny\"])\n",
    "\n",
    "print(model.decode([\"Happy\", \"Happy\", \"Sad\"]))\n",
    "print(model.likelihood([\"Sunny\", \"Cloudy\", \"Sunny\"], [\"Happy\", \"Happy\", \"Sad\"]))\n",
    "\n",
    "\n",
    "t_matr = np.array([[0.7, 0.3], [0.4, 0.6]])\n",
    "\n",
    "o_matr = np.array([[0.1, 0.4, 0.5], [0.6, 0.3, 0.1]])\n",
    "\n",
    "model = HMM(t_matr, o_matr, [\"Walk\", \"Shop\", \"Clean\"], [\"Rainy\", \"Sunny\"])\n",
    "\n",
    "print(model.decode([\"Walk\", \"Shop\", \"Clean\"], initial_probabilities=np.array([0.6, 0.4])))"
   ]
  }
 ],
 "metadata": {
  "kernelspec": {
   "display_name": "Python 3",
   "language": "python",
   "name": "python3"
  },
  "language_info": {
   "codemirror_mode": {
    "name": "ipython",
    "version": 3
   },
   "file_extension": ".py",
   "mimetype": "text/x-python",
   "name": "python",
   "nbconvert_exporter": "python",
   "pygments_lexer": "ipython3",
   "version": "3.13.2"
  }
 },
 "nbformat": 4,
 "nbformat_minor": 5
}
