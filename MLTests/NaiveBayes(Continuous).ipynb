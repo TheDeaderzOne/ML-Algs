{
 "cells": [
  {
   "cell_type": "markdown",
   "id": "80c9fb01",
   "metadata": {},
   "source": [
    "Import Statements"
   ]
  },
  {
   "cell_type": "code",
   "execution_count": 1,
   "id": "6a88db66",
   "metadata": {},
   "outputs": [],
   "source": [
    "import sys\n",
    "import os\n",
    "\n",
    "# Go up one directory from the notebook's location\n",
    "notebook_dir = os.path.dirname(os.path.abspath(\"__file__\"))\n",
    "project_root = os.path.join(notebook_dir, \"..\")\n",
    "\n",
    "# Add the project root to the system path\n",
    "if project_root not in sys.path:\n",
    "    sys.path.append(project_root)"
   ]
  },
  {
   "cell_type": "code",
   "execution_count": 2,
   "id": "383295d5",
   "metadata": {},
   "outputs": [],
   "source": [
    "from sklearn.naive_bayes import GaussianNB\n",
    "import pandas as pd\n",
    "from sklearn.model_selection import train_test_split\n",
    "from sklearn.metrics import f1_score, accuracy_score, roc_auc_score, RocCurveDisplay\n",
    "from sklearn.model_selection import cross_val_score, KFold\n",
    "import random\n",
    "from CompletedMLAlgorithms.NaiveBayes import ContinuousNaiveBayes\n",
    "from sklearn.datasets import load_wine, load_breast_cancer"
   ]
  },
  {
   "cell_type": "markdown",
   "id": "e3048f20",
   "metadata": {},
   "source": [
    "Dataset"
   ]
  },
  {
   "cell_type": "code",
   "execution_count": 3,
   "id": "dac9d753",
   "metadata": {},
   "outputs": [],
   "source": [
    "cancer = load_breast_cancer()\n",
    "\n",
    "\n",
    "df = pd.DataFrame(cancer.data, columns=cancer.feature_names)\n",
    "df[\"target\"] = cancer.target\n",
    "\n",
    "df, testdf = train_test_split(df, test_size=0.3, random_state=42)\n",
    "\n",
    "df_target = df[\"target\"]\n",
    "testdf_target = testdf[\"target\"]\n",
    "\n",
    "df = df.drop(columns=[\"target\"])\n",
    "testdf = testdf.drop(columns=[\"target\"])"
   ]
  },
  {
   "cell_type": "markdown",
   "id": "7f625df0",
   "metadata": {},
   "source": [
    "Fitting"
   ]
  },
  {
   "cell_type": "code",
   "execution_count": 4,
   "id": "88ba1015",
   "metadata": {},
   "outputs": [],
   "source": [
    "model1 = GaussianNB()\n",
    "model2 = ContinuousNaiveBayes()"
   ]
  },
  {
   "cell_type": "code",
   "execution_count": 5,
   "id": "bad7fe75",
   "metadata": {},
   "outputs": [
    {
     "name": "stdout",
     "output_type": "stream",
     "text": [
      "0.9415204678362573\n"
     ]
    }
   ],
   "source": [
    "model1.fit(df, df_target)\n",
    "\n",
    "print(accuracy_score(model1.predict(testdf), testdf_target))"
   ]
  },
  {
   "cell_type": "code",
   "execution_count": null,
   "id": "23f92c42",
   "metadata": {},
   "outputs": [],
   "source": [
    "print(model1.predict(testdf))\n",
    "print(testdf_target.to_numpy)"
   ]
  },
  {
   "cell_type": "code",
   "execution_count": 7,
   "id": "8f1d2dee",
   "metadata": {},
   "outputs": [
    {
     "name": "stdout",
     "output_type": "stream",
     "text": [
      "0.935672514619883\n"
     ]
    }
   ],
   "source": [
    "model2.fit(df, df_target)\n",
    "\n",
    "print(accuracy_score(model2.predict(testdf), testdf_target))"
   ]
  },
  {
   "cell_type": "code",
   "execution_count": null,
   "id": "3f7fdec5",
   "metadata": {},
   "outputs": [],
   "source": [
    "print(model2.predict(testdf))\n",
    "print(testdf_target.to_numpy)"
   ]
  }
 ],
 "metadata": {
  "kernelspec": {
   "display_name": "Python 3",
   "language": "python",
   "name": "python3"
  },
  "language_info": {
   "codemirror_mode": {
    "name": "ipython",
    "version": 3
   },
   "file_extension": ".py",
   "mimetype": "text/x-python",
   "name": "python",
   "nbconvert_exporter": "python",
   "pygments_lexer": "ipython3",
   "version": "3.13.2"
  }
 },
 "nbformat": 4,
 "nbformat_minor": 5
}
