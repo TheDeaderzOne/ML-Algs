{
 "cells": [
  {
   "cell_type": "code",
   "execution_count": 1,
   "id": "e6f24b65",
   "metadata": {},
   "outputs": [],
   "source": [
    "import sys\n",
    "import os\n",
    "\n",
    "# Go up one directory from the notebook's location\n",
    "notebook_dir = os.path.dirname(os.path.abspath(\"__file__\"))\n",
    "project_root = os.path.join(notebook_dir, \"..\")\n",
    "\n",
    "# Add the project root to the system path\n",
    "if project_root not in sys.path:\n",
    "    sys.path.append(project_root)"
   ]
  },
  {
   "cell_type": "code",
   "execution_count": 2,
   "id": "3a950079",
   "metadata": {},
   "outputs": [
    {
     "ename": "ModuleNotFoundError",
     "evalue": "No module named 'POSTaggerHMM'",
     "output_type": "error",
     "traceback": [
      "\u001b[0;31m---------------------------------------------------------------------------\u001b[0m",
      "\u001b[0;31mModuleNotFoundError\u001b[0m                       Traceback (most recent call last)",
      "Cell \u001b[0;32mIn[2], line 2\u001b[0m\n\u001b[1;32m      1\u001b[0m \u001b[38;5;28;01mfrom\u001b[39;00m\u001b[38;5;250m \u001b[39m\u001b[38;5;21;01mNLPExperiments\u001b[39;00m\u001b[38;5;21;01m.\u001b[39;00m\u001b[38;5;21;01mPOSTaggerHMM\u001b[39;00m\u001b[38;5;250m \u001b[39m\u001b[38;5;28;01mimport\u001b[39;00m POS_HMM\n\u001b[0;32m----> 2\u001b[0m \u001b[38;5;28;01mfrom\u001b[39;00m\u001b[38;5;250m \u001b[39m\u001b[38;5;21;01mNLPExperiments\u001b[39;00m\u001b[38;5;21;01m.\u001b[39;00m\u001b[38;5;21;01mPOSTaggerMEMM\u001b[39;00m\u001b[38;5;250m \u001b[39m\u001b[38;5;28;01mimport\u001b[39;00m POS_MEMM\n\u001b[1;32m      3\u001b[0m \u001b[38;5;28;01mfrom\u001b[39;00m\u001b[38;5;250m \u001b[39m\u001b[38;5;21;01mnltk\u001b[39;00m\u001b[38;5;21;01m.\u001b[39;00m\u001b[38;5;21;01mcorpus\u001b[39;00m\u001b[38;5;250m \u001b[39m\u001b[38;5;28;01mimport\u001b[39;00m treebank\n\u001b[1;32m      5\u001b[0m model \u001b[38;5;241m=\u001b[39m POS_HMM(treebank, \u001b[38;5;241m0.8\u001b[39m)\n",
      "File \u001b[0;32m~/Downloads/ML-Algs/NLPTests/../NLPExperiments/POSTaggerMEMM.py:13\u001b[0m\n\u001b[1;32m     10\u001b[0m parent_dir \u001b[38;5;241m=\u001b[39m os\u001b[38;5;241m.\u001b[39mpath\u001b[38;5;241m.\u001b[39mdirname(current_dir)\n\u001b[1;32m     11\u001b[0m sys\u001b[38;5;241m.\u001b[39mpath\u001b[38;5;241m.\u001b[39mappend(parent_dir)\n\u001b[0;32m---> 13\u001b[0m \u001b[38;5;28;01mfrom\u001b[39;00m\u001b[38;5;250m \u001b[39m\u001b[38;5;21;01mPOSTaggerHMM\u001b[39;00m\u001b[38;5;250m \u001b[39m\u001b[38;5;28;01mimport\u001b[39;00m POS_HMM\n\u001b[1;32m     16\u001b[0m \u001b[38;5;28;01mdef\u001b[39;00m\u001b[38;5;250m \u001b[39m\u001b[38;5;21mlist_accuracy_tuple\u001b[39m(list1, list2):\n\u001b[1;32m     17\u001b[0m     \u001b[38;5;28;01mreturn\u001b[39;00m \u001b[38;5;28msum\u001b[39m(x \u001b[38;5;241m==\u001b[39m y \u001b[38;5;28;01mfor\u001b[39;00m x, y \u001b[38;5;129;01min\u001b[39;00m \u001b[38;5;28mzip\u001b[39m(list1, list2)), \u001b[38;5;28mlen\u001b[39m(list1)\n",
      "\u001b[0;31mModuleNotFoundError\u001b[0m: No module named 'POSTaggerHMM'"
     ]
    }
   ],
   "source": [
    "from NLPExperiments.POSTaggerHMM import POS_HMM\n",
    "from NLPExperiments.POSTaggerMEMM import POS_MEMM\n",
    "from nltk.corpus import treebank\n",
    "\n",
    "model = POS_HMM(treebank, 0.8)"
   ]
  },
  {
   "cell_type": "code",
   "execution_count": null,
   "id": "e7772f06",
   "metadata": {},
   "outputs": [],
   "source": [
    "model2 = POS_MEMM(treebank, 0.8)"
   ]
  },
  {
   "cell_type": "markdown",
   "id": "5c8e1f89",
   "metadata": {},
   "source": [
    "Predictions"
   ]
  },
  {
   "cell_type": "code",
   "execution_count": null,
   "id": "2a8bd7b1",
   "metadata": {},
   "outputs": [
    {
     "name": "stdout",
     "output_type": "stream",
     "text": [
      "['PRP', 'VBD', 'IN', 'JJ', 'CC', 'VB', 'DT', 'NN', 'IN', 'DT', 'NN', '.']\n"
     ]
    }
   ],
   "source": [
    "# sentence = \"She quickly ran to the store and bought some fresh apples .\"\n",
    "\n",
    "sentence = \"He came in late and put the jacket in the closet .\"\n",
    "\n",
    "# last one is NNS, not NN\n",
    "print(model.decode(sentence.split())[0])"
   ]
  },
  {
   "cell_type": "code",
   "execution_count": null,
   "id": "328548bf",
   "metadata": {},
   "outputs": [
    {
     "name": "stdout",
     "output_type": "stream",
     "text": [
      "['PRP', 'VBD', 'IN', 'JJ', 'CC', 'VBD', 'DT', 'NN', 'IN', 'DT', 'NN', '.']\n"
     ]
    }
   ],
   "source": [
    "print(model2.decode(sentence.split())[0])"
   ]
  },
  {
   "cell_type": "code",
   "execution_count": null,
   "id": "3051132b",
   "metadata": {},
   "outputs": [
    {
     "data": {
      "text/plain": [
       "0.9224019881320688"
      ]
     },
     "execution_count": 6,
     "metadata": {},
     "output_type": "execute_result"
    }
   ],
   "source": [
    "model.accuracy_test()"
   ]
  },
  {
   "cell_type": "code",
   "execution_count": null,
   "id": "f880d6bd",
   "metadata": {},
   "outputs": [
    {
     "ename": "AttributeError",
     "evalue": "'POS_MEMM' object has no attribute 'accuracy_test'",
     "output_type": "error",
     "traceback": [
      "\u001b[0;31m---------------------------------------------------------------------------\u001b[0m",
      "\u001b[0;31mAttributeError\u001b[0m                            Traceback (most recent call last)",
      "Cell \u001b[0;32mIn[7], line 1\u001b[0m\n\u001b[0;32m----> 1\u001b[0m \u001b[43mmodel2\u001b[49m\u001b[38;5;241;43m.\u001b[39;49m\u001b[43maccuracy_test\u001b[49m(print_flag\u001b[38;5;241m=\u001b[39m\u001b[38;5;28;01mTrue\u001b[39;00m)\n",
      "\u001b[0;31mAttributeError\u001b[0m: 'POS_MEMM' object has no attribute 'accuracy_test'"
     ]
    }
   ],
   "source": [
    "model2.accuracy_test(print_flag=True)"
   ]
  }
 ],
 "metadata": {
  "kernelspec": {
   "display_name": "Python 3",
   "language": "python",
   "name": "python3"
  },
  "language_info": {
   "codemirror_mode": {
    "name": "ipython",
    "version": 3
   },
   "file_extension": ".py",
   "mimetype": "text/x-python",
   "name": "python",
   "nbconvert_exporter": "python",
   "pygments_lexer": "ipython3",
   "version": "3.13.2"
  }
 },
 "nbformat": 4,
 "nbformat_minor": 5
}
