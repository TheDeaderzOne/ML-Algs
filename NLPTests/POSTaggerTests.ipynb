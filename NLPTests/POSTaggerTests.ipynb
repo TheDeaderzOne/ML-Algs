{
 "cells": [
  {
   "cell_type": "code",
   "execution_count": 11,
   "id": "e6f24b65",
   "metadata": {},
   "outputs": [],
   "source": [
    "import sys\n",
    "import os\n",
    "\n",
    "# Go up one directory from the notebook's location\n",
    "notebook_dir = os.path.dirname(os.path.abspath(\"__file__\"))\n",
    "project_root = os.path.join(notebook_dir, \"..\")\n",
    "\n",
    "# Add the project root to the system path\n",
    "if project_root not in sys.path:\n",
    "    sys.path.append(project_root)"
   ]
  },
  {
   "cell_type": "code",
   "execution_count": 12,
   "id": "3a950079",
   "metadata": {},
   "outputs": [],
   "source": [
    "from NLPExperiments.POSTaggerHMM import POS_HMM\n",
    "from nltk.corpus import treebank\n",
    "\n",
    "model = POS_HMM(treebank)"
   ]
  },
  {
   "cell_type": "markdown",
   "id": "5c8e1f89",
   "metadata": {},
   "source": [
    "Predictions"
   ]
  },
  {
   "cell_type": "code",
   "execution_count": null,
   "id": "2a8bd7b1",
   "metadata": {},
   "outputs": [
    {
     "name": "stdout",
     "output_type": "stream",
     "text": [
      "(['PRP', 'RB', 'VBD', 'TO', 'DT', 'NN', 'CC', 'VBD', 'DT', 'JJ', 'NN', '.'], np.float64(2.4826115186851283e-33))\n"
     ]
    }
   ],
   "source": [
    "sentence = \"She quickly ran to the store and bought some fresh apples .\"\n",
    "# last one is NNS, not NN\n",
    "print(model.decode(sentence.split()))"
   ]
  }
 ],
 "metadata": {
  "kernelspec": {
   "display_name": "Python 3",
   "language": "python",
   "name": "python3"
  },
  "language_info": {
   "codemirror_mode": {
    "name": "ipython",
    "version": 3
   },
   "file_extension": ".py",
   "mimetype": "text/x-python",
   "name": "python",
   "nbconvert_exporter": "python",
   "pygments_lexer": "ipython3",
   "version": "3.13.2"
  }
 },
 "nbformat": 4,
 "nbformat_minor": 5
}
